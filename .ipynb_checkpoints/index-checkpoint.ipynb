{
 "cells": [
  {
   "cell_type": "markdown",
   "id": "944ae961-f448-4c5a-b7ea-ea76c147d4ca",
   "metadata": {},
   "source": [
    "# Adding a console"
   ]
  },
  {
   "cell_type": "markdown",
   "id": "cf75592d-354d-4a82-8eed-1254e489382f",
   "metadata": {},
   "source": [
    "### Introduction"
   ]
  },
  {
   "cell_type": "markdown",
   "id": "2235bfe3-5c20-4759-8acc-be05cf6cf72a",
   "metadata": {},
   "source": [
    "In this lesson, we'll review our file structure."
   ]
  },
  {
   "cell_type": "markdown",
   "id": "0a6c4ae1-f7d9-4272-bf3e-b5a5b3b1ca33",
   "metadata": {},
   "source": [
    "### Let's get started"
   ]
  },
  {
   "cell_type": "markdown",
   "id": "1b4f126b-47e4-4274-94da-3d0edae4a9f3",
   "metadata": {},
   "source": [
    "We can see that we placed each of our files in the `rolling_stones/` folder.  The folder `rolling_stones` is our project folder.  And in that folder we have two subfolders of `src` and `data`.  The `src` folder has our code. "
   ]
  },
  {
   "cell_type": "markdown",
   "id": "99c6de43-2a5d-4eec-9107-569675ca0632",
   "metadata": {},
   "source": [
    "```\n",
    " src\n",
    "    ├── album.py\n",
    "    ├── song.py\n",
    "    └── top_songs.py\n",
    "```"
   ]
  },
  {
   "cell_type": "markdown",
   "id": "a0278051-da88-44a1-8874-a48bb7b2b5cc",
   "metadata": {},
   "source": [
    "And notice that we have a `console.py` file outside of the `src` directory.  We'll use the `console.py` file to interact with our code.  Let's see how."
   ]
  },
  {
   "cell_type": "markdown",
   "id": "e14c0729-ff70-4788-83cb-fe3df6ea8d7b",
   "metadata": {},
   "source": [
    "### Loading the data"
   ]
  },
  {
   "cell_type": "markdown",
   "id": "ec28a921-13db-48f0-80ac-0a5d0221d6da",
   "metadata": {},
   "source": [
    "We already set up the `console.py` file so that it loads in some data.  If we open up the `console.py` file, we can see that it uses pandas to load data from the `./data` folder.\n",
    "\n",
    "And if we run this file we can see that it loads up and then prints the first album (which we can see in the last line)."
   ]
  },
  {
   "cell_type": "markdown",
   "id": "a728e7f3-ed7c-4af6-abc4-a7c95d62497e",
   "metadata": {},
   "source": [
    "From the `rolling_stones` folder run the following."
   ]
  },
  {
   "cell_type": "markdown",
   "id": "e20a8a3f-c06b-4deb-9fdf-9ae17720df09",
   "metadata": {},
   "source": [
    "```bash\n",
    "python3 console.py\n",
    "```"
   ]
  },
  {
   "cell_type": "markdown",
   "id": "55ddcebc-cd89-419e-bd1f-5d7f79c1b613",
   "metadata": {},
   "source": [
    "```python\n",
    "{'number': 1, 'year': 1967, 'album': \"Sgt. Pepper's Lonely Hearts Club Band\", 'artist': 'The Beatles', 'genre': 'Rock', 'subgenre': 'Rock & Roll, Psychedelic Rock'}\n",
    "```"
   ]
  },
  {
   "cell_type": "markdown",
   "id": "d00d4b9c-d211-4dde-b6bd-d8ade920d23a",
   "metadata": {},
   "source": [
    "Cool!  This works."
   ]
  },
  {
   "cell_type": "markdown",
   "id": "5085a466-457f-4732-9f89-9de9f2825006",
   "metadata": {},
   "source": [
    "### Another experiment"
   ]
  },
  {
   "cell_type": "markdown",
   "id": "0744e5cf-41d4-4aae-91f6-405add7917f0",
   "metadata": {},
   "source": [
    "Now the key part to pay attention to is the `songs_url`, `track_url` and `albums_url` variables.  Notice that each of them use the relative path."
   ]
  },
  {
   "cell_type": "markdown",
   "id": "6dea104d-b1ed-475c-888b-0356b6523576",
   "metadata": {},
   "source": [
    "```python\n",
    "songs_url = \"./data/top-500-songs.txt\"\n",
    "```"
   ]
  },
  {
   "cell_type": "markdown",
   "id": "1bee1c21-7654-4447-8104-20dfc7f92643",
   "metadata": {},
   "source": [
    "But relative to what?  Our first thought is probably that it's relative to the `console.py` file.  But this is wrong."
   ]
  },
  {
   "cell_type": "markdown",
   "id": "fcd53d99-52c7-4ad2-8c34-7ee94562c00b",
   "metadata": {},
   "source": [
    "We can see this if we `cd` out of the rolling_stones directory and into the `file-management-practice` directory and then run the `console.py` file from there."
   ]
  },
  {
   "cell_type": "markdown",
   "id": "1d1f2cc8-3aee-4ef0-bc2f-2cea0f974142",
   "metadata": {},
   "source": [
    "```python\n",
    "python3 rolling_stones/console.py\n",
    "```"
   ]
  },
  {
   "cell_type": "markdown",
   "id": "d3d4ad62-f4e5-4c7e-9417-579f3a133fb6",
   "metadata": {},
   "source": [
    "<img src=\"./error.png\" width=\"100%\">"
   ]
  },
  {
   "cell_type": "markdown",
   "id": "07b611a9-8bed-45ce-897f-5fd5f0376734",
   "metadata": {},
   "source": [
    "This time we get an error as it cannot find the file."
   ]
  },
  {
   "cell_type": "markdown",
   "id": "73869bd9-2b2e-4407-8231-af9c34c12c91",
   "metadata": {},
   "source": [
    "So the reason why we now get an error, is because python is looking for the files relative to where we run `python3`.  So this time, we are running python3 from the file-management-practice, and therefore when the `console.py` is run and we reach the line\n",
    "\n",
    "```python\n",
    "songs_url = \"./data/top-500-songs.txt\"\n",
    "```\n",
    "python looks for this file relative to the `file-management-practice` folder.  In other words, it looks for a file `file-management-practice/data/top-500-songs.txt`.  But this file does not exist.  We want to look for a file `file-management-practice/rolling_stones/data/top-500-songs.txt`.  \n",
    "\n",
    "So to accomplish this, we need to make sure we are in the `rolling_stones` folder, and this way Python will look for a file in `rolling_stones/data/top-500-songs.txt`, where that file is located."
   ]
  },
  {
   "cell_type": "markdown",
   "id": "a69f51e7-1648-4a5d-9185-1d39e061290b",
   "metadata": {},
   "source": [
    "### Summary"
   ]
  },
  {
   "cell_type": "markdown",
   "id": "1c85c632-45b3-4b21-bd46-2f7fbd8d8386",
   "metadata": {},
   "source": [
    "In this lesson, we started to see how we can add a console to our codebase.  The key trick is that when running python, all paths in our code have to be relative to where we run python from.  \n",
    "\n",
    "So when we have a line like the following:\n",
    "\n",
    "```python\n",
    "songs_url = \"./data/top-500-songs.txt\"\n",
    "```\n",
    "\n",
    "then the folder data should be relative to our current directory when we run python3.  So if we run `python3` from the `rolling_stones` directory our code works fine.  However if we run from an outside directory and then kick off our code we get an error like so:\n",
    "\n",
    "<img src=\"./error.png\" width=\"100%\">\n"
   ]
  }
 ],
 "metadata": {
  "kernelspec": {
   "display_name": "Python 3 (ipykernel)",
   "language": "python",
   "name": "python3"
  },
  "language_info": {
   "codemirror_mode": {
    "name": "ipython",
    "version": 3
   },
   "file_extension": ".py",
   "mimetype": "text/x-python",
   "name": "python",
   "nbconvert_exporter": "python",
   "pygments_lexer": "ipython3",
   "version": "3.9.10"
  }
 },
 "nbformat": 4,
 "nbformat_minor": 5
}
